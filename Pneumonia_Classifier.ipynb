{
 "cells": [
  {
   "cell_type": "code",
   "execution_count": 56,
   "metadata": {},
   "outputs": [],
   "source": [
    "from __future__ import print_function\n",
    "import keras\n",
    "\n",
    "from keras.preprocessing.image import ImageDataGenerator, load_img\n",
    "from keras.models import Sequential\n",
    "from keras.layers import Dense, Dropout, Flatten, Activation\n",
    "from keras.layers import Conv2D, MaxPooling2D\n",
    "from keras.optimizers import SGD\n",
    "from keras.datasets import mnist\n",
    "from keras import backend as K\n",
    "import numpy as np\n",
    "import math\n"
   ]
  },
  {
   "cell_type": "code",
   "execution_count": 36,
   "metadata": {},
   "outputs": [],
   "source": [
    "train_data_dir = './input/train'\n",
    "test_data_dir = './input/test'\n",
    "val_data_dir = './input/val'"
   ]
  },
  {
   "cell_type": "code",
   "execution_count": 37,
   "metadata": {},
   "outputs": [],
   "source": [
    "nb_train_samples = 5217\n",
    "nb_validation_samples = 17\n",
    "epochs = 15\n",
    "batch_size = 8"
   ]
  },
  {
   "cell_type": "code",
   "execution_count": 38,
   "metadata": {},
   "outputs": [],
   "source": [
    "# dimensions of our images.\n",
    "img_width, img_height = 150, 150\n",
    "\n",
    "input_shape = (img_width, img_height, 3)\n",
    "if K.image_data_format() == 'channels_first':\n",
    "    input_shape = (3, img_width, img_height)"
   ]
  },
  {
   "cell_type": "code",
   "execution_count": 39,
   "metadata": {},
   "outputs": [],
   "source": [
    "train_gen = ImageDataGenerator(\n",
    "    rescale=1. / 255,\n",
    "    shear_range=0.2,\n",
    "    zoom_range=0.2,\n",
    "    horizontal_flip=True)"
   ]
  },
  {
   "cell_type": "code",
   "execution_count": 40,
   "metadata": {},
   "outputs": [],
   "source": [
    "test_gen = ImageDataGenerator(rescale=1. / 255)"
   ]
  },
  {
   "cell_type": "code",
   "execution_count": 41,
   "metadata": {},
   "outputs": [
    {
     "name": "stdout",
     "output_type": "stream",
     "text": [
      "Found 5216 images belonging to 2 classes.\n"
     ]
    }
   ],
   "source": [
    "train_generator = train_gen.flow_from_directory(\n",
    "    train_data_dir,\n",
    "    target_size=(img_width, img_height),\n",
    "    batch_size=batch_size,\n",
    "    class_mode='binary')"
   ]
  },
  {
   "cell_type": "code",
   "execution_count": 42,
   "metadata": {},
   "outputs": [
    {
     "name": "stdout",
     "output_type": "stream",
     "text": [
      "Found 624 images belonging to 2 classes.\n"
     ]
    }
   ],
   "source": [
    "test_generator = test_gen.flow_from_directory(\n",
    "    test_data_dir,\n",
    "    target_size=(img_width, img_height),\n",
    "    batch_size=batch_size,\n",
    "    class_mode='binary')"
   ]
  },
  {
   "cell_type": "code",
   "execution_count": 43,
   "metadata": {},
   "outputs": [
    {
     "name": "stdout",
     "output_type": "stream",
     "text": [
      "Found 16 images belonging to 2 classes.\n"
     ]
    }
   ],
   "source": [
    "validation_generator = test_gen.flow_from_directory(\n",
    "    val_data_dir,\n",
    "    target_size=(img_width, img_height),\n",
    "    batch_size=batch_size,\n",
    "    class_mode='binary')"
   ]
  },
  {
   "cell_type": "code",
   "execution_count": 44,
   "metadata": {},
   "outputs": [],
   "source": [
    "model = Sequential()\n",
    "model.add(Conv2D(64, (3, 3), input_shape=input_shape))\n",
    "model.add(Activation('relu'))\n",
    "model.add(MaxPooling2D(pool_size=(2, 2)))\n",
    "\n",
    "model.add(Conv2D(48, (3, 3)))\n",
    "model.add(Activation('relu'))\n",
    "model.add(MaxPooling2D(pool_size=(2, 2)))\n",
    "\n",
    "model.add(Conv2D(32, (3, 3)))\n",
    "model.add(Activation('relu'))\n",
    "model.add(MaxPooling2D(pool_size=(2, 2)))\n",
    "\n",
    "model.add(Flatten())\n",
    "model.add(Dense(32))\n",
    "model.add(Activation('relu'))\n",
    "model.add(Dropout(0.5))\n",
    "model.add(Dense(1))\n",
    "model.add(Activation('sigmoid'))"
   ]
  },
  {
   "cell_type": "code",
   "execution_count": 45,
   "metadata": {},
   "outputs": [],
   "source": [
    "model.compile(loss='binary_crossentropy',\n",
    "              optimizer='rmsprop',\n",
    "              metrics=['accuracy'])"
   ]
  },
  {
   "cell_type": "code",
   "execution_count": 46,
   "metadata": {},
   "outputs": [
    {
     "name": "stdout",
     "output_type": "stream",
     "text": [
      "Epoch 1/15\n",
      "652/652 [==============================] - 207s 318ms/step - loss: 0.4744 - acc: 0.7816 - val_loss: 0.7987 - val_acc: 0.7500\n",
      "Epoch 2/15\n",
      "652/652 [==============================] - 200s 307ms/step - loss: 0.3105 - acc: 0.8785 - val_loss: 0.7010 - val_acc: 0.8125\n",
      "Epoch 3/15\n",
      "652/652 [==============================] - 203s 311ms/step - loss: 0.2887 - acc: 0.8955 - val_loss: 0.5506 - val_acc: 0.8750\n",
      "Epoch 4/15\n",
      "652/652 [==============================] - 197s 302ms/step - loss: 0.2724 - acc: 0.9076 - val_loss: 0.5803 - val_acc: 0.8125\n",
      "Epoch 5/15\n",
      "652/652 [==============================] - 198s 304ms/step - loss: 0.2658 - acc: 0.9099 - val_loss: 1.2551 - val_acc: 0.6875\n",
      "Epoch 6/15\n",
      "652/652 [==============================] - 207s 318ms/step - loss: 0.2566 - acc: 0.9145 - val_loss: 0.8736 - val_acc: 0.6875\n",
      "Epoch 7/15\n",
      "652/652 [==============================] - 206s 315ms/step - loss: 0.2385 - acc: 0.9225 - val_loss: 0.8633 - val_acc: 0.7500\n",
      "Epoch 8/15\n",
      "652/652 [==============================] - 205s 314ms/step - loss: 0.2572 - acc: 0.9153 - val_loss: 2.8995 - val_acc: 0.6250\n",
      "Epoch 9/15\n",
      "652/652 [==============================] - 187s 286ms/step - loss: 0.2367 - acc: 0.9229 - val_loss: 0.8689 - val_acc: 0.6875\n",
      "Epoch 10/15\n",
      "652/652 [==============================] - 179s 275ms/step - loss: 1.2242 - acc: 0.8783 - val_loss: 7.9712 - val_acc: 0.5000\n",
      "Epoch 11/15\n",
      "652/652 [==============================] - 189s 290ms/step - loss: 4.1783 - acc: 0.7377 - val_loss: 7.9712 - val_acc: 0.5000\n",
      "Epoch 12/15\n",
      "652/652 [==============================] - 201s 309ms/step - loss: 4.1296 - acc: 0.7410 - val_loss: 7.9712 - val_acc: 0.5000\n",
      "Epoch 13/15\n",
      "652/652 [==============================] - 209s 321ms/step - loss: 4.1049 - acc: 0.7425 - val_loss: 7.9712 - val_acc: 0.5000\n",
      "Epoch 14/15\n",
      "652/652 [==============================] - 207s 317ms/step - loss: 4.1087 - acc: 0.7419 - val_loss: 7.9712 - val_acc: 0.5000\n",
      "Epoch 15/15\n",
      "652/652 [==============================] - 202s 310ms/step - loss: 4.1018 - acc: 0.7427 - val_loss: 7.9712 - val_acc: 0.5000\n"
     ]
    },
    {
     "data": {
      "text/plain": [
       "<keras.callbacks.History at 0xb246e9240>"
      ]
     },
     "execution_count": 46,
     "metadata": {},
     "output_type": "execute_result"
    }
   ],
   "source": [
    "model.fit_generator(\n",
    "    train_generator,\n",
    "    steps_per_epoch=nb_train_samples // batch_size,\n",
    "    epochs=epochs,\n",
    "    validation_data=validation_generator,\n",
    "    validation_steps=nb_validation_samples // batch_size)"
   ]
  },
  {
   "cell_type": "code",
   "execution_count": null,
   "metadata": {},
   "outputs": [
    {
     "name": "stdout",
     "output_type": "stream",
     "text": [
      " 25/653 [>.............................] - ETA: 1:11"
     ]
    }
   ],
   "source": [
    "score = model.evaluate_generator(test_generator, math.ceil(5217 / batch_size), verbose=1)"
   ]
  },
  {
   "cell_type": "code",
   "execution_count": null,
   "metadata": {},
   "outputs": [],
   "source": [
    "score"
   ]
  },
  {
   "cell_type": "code",
   "execution_count": null,
   "metadata": {},
   "outputs": [],
   "source": []
  }
 ],
 "metadata": {
  "kernelspec": {
   "display_name": "Python 3",
   "language": "python",
   "name": "python3"
  },
  "language_info": {
   "codemirror_mode": {
    "name": "ipython",
    "version": 3
   },
   "file_extension": ".py",
   "mimetype": "text/x-python",
   "name": "python",
   "nbconvert_exporter": "python",
   "pygments_lexer": "ipython3",
   "version": "3.6.5"
  }
 },
 "nbformat": 4,
 "nbformat_minor": 2
}
